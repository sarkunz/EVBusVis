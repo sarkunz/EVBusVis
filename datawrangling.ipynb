{
 "cells": [
  {
   "cell_type": "markdown",
   "source": [
    "# Data wrangling routes and charging stations"
   ],
   "metadata": {}
  },
  {
   "cell_type": "markdown",
   "source": [
    "-----------------------------------------\r\n",
    "TABULAR DATA-SPECIFIC INFORMATION FOR: 1-B. BusRoutes_UTA.dbf\r\n",
    "-----------------------------------------\r\n",
    "\r\n",
    "\r\n",
    "1. Number of variables:\r\n",
    "5\r\n",
    "\r\n",
    "2. Number of cases/rows: \r\n",
    "114\r\n",
    "\r\n",
    "3. Variable List\r\n",
    "    A. Name: LineAbbr\r\n",
    "       Description: Abbreviations for bus lines.\r\n",
    "\tNominal \r\n",
    "                    \r\n",
    "    B. Name: LineName\r\n",
    "       Description: Names of bus lines.\r\n",
    "\tNominal\r\n",
    "\r\n",
    "    C. Name: Service\r\n",
    "       Description: Category of service of bus lines.\r\n",
    "\tNominal, including local, express, BRT, fast bus, shuttle, ski, flex.\r\n",
    "\r\n",
    "    D. Name: Frequency\r\n",
    "       Description: Frequency of bus lines.\r\n",
    "\tRatio\r\n",
    "\r\n",
    "    E. Name: Shape_Leng\r\n",
    "       Description: Length of the bus routes.\r\n",
    "\tRatio, unit: foot"
   ],
   "metadata": {}
  },
  {
   "cell_type": "code",
   "execution_count": 60,
   "source": [
    "from dbfread import DBF\r\n",
    "i = 0\r\n",
    "routes = {}\r\n",
    "for record in DBF('DATA\\\\1. Network Data\\\\1. BusRoutes_UTA\\\\BusRoutes_UTA.dbf'):\r\n",
    "    i += 1\r\n",
    "    routes[record['LineAbbr']] = {'lineName': record[\"LineName\"], 'service': record[\"Service\"], 'shape_length': record[\"Shape_Leng\"], 'busses': set()}"
   ],
   "outputs": [],
   "metadata": {}
  },
  {
   "cell_type": "code",
   "execution_count": 37,
   "source": [
    "len(routes)"
   ],
   "outputs": [
    {
     "output_type": "execute_result",
     "data": {
      "text/plain": [
       "114"
      ]
     },
     "metadata": {},
     "execution_count": 37
    }
   ],
   "metadata": {}
  },
  {
   "cell_type": "code",
   "execution_count": 78,
   "source": [
    "import openpyxl\r\n",
    "\r\n",
    "wb_obj = openpyxl.load_workbook(\"DATA\\\\1. Network Data\\\\3. UTA Runcut File  Aug2016.xlsx\")\r\n",
    "sheet = wb_obj.active\r\n",
    "\r\n",
    "i = 0\r\n",
    "for row in sheet.iter_rows():\r\n",
    "    i += 1\r\n",
    "    if i == 1:\r\n",
    "        continue\r\n",
    "    if row[0].value in routes:\r\n",
    "        routes[row[0].value][\"busses\"].add(row[3].value)\r\n",
    "\r\n",
    "print(routes['217'])"
   ],
   "outputs": [
    {
     "output_type": "stream",
     "name": "stdout",
     "text": [
      "{'lineName': 'REDWOOD ROAD', 'service': 'local', 'shape_length': 28815.6085198, 'busses': {1027, 1416, 1422, 1059, 1828, 1836, 1841, 1089, 1091, 1106, 1109, 1000, 1001, 1002, 1007, 1008, 1401, 1404, 1407}}\n"
     ]
    }
   ],
   "metadata": {}
  },
  {
   "cell_type": "code",
   "execution_count": 81,
   "source": [
    "import json\r\n",
    "def set_default(obj):\r\n",
    "    if isinstance(obj, set):\r\n",
    "        return list(obj)\r\n",
    "    raise TypeError\r\n",
    "\r\n",
    "with open('allRoutes.json', 'w') as outfile:\r\n",
    "    json.dump(routes, outfile, default=set_default)"
   ],
   "outputs": [],
   "metadata": {}
  },
  {
   "cell_type": "markdown",
   "source": [
    "-----------------------------------------\r\n",
    "TABULAR DATA-SPECIFIC INFORMATION FOR: 2-B. BusStops_UTA.dbf\r\n",
    "-----------------------------------------\r\n",
    "\r\n",
    "\r\n",
    "1. Number of variables:\r\n",
    "4\r\n",
    "\r\n",
    "2. Number of cases/rows: \r\n",
    "5987\r\n",
    "\r\n",
    "3. Variable List\r\n",
    "    A. Name: StopId\r\n",
    "       Description: Unique identifier for bus stops.\r\n",
    "\tNominal \r\n",
    "                    \r\n",
    "    B. Name: StopName\r\n",
    "       Description: The comlete names of bus stops.\r\n",
    "\tNominal\r\n",
    "\r\n",
    "    C. Name: StreetNum\r\n",
    "       Description: The number of the streets the stops are on.\r\n",
    "\tNominal\r\n",
    "\r\n",
    "    D. Name: OnStreet\r\n",
    "       Description: The name of the streets the stops are on.\r\n",
    "\tNominal\r\n"
   ],
   "metadata": {}
  },
  {
   "cell_type": "code",
   "execution_count": 86,
   "source": [
    "stops = {}\r\n",
    "for record in DBF('DATA\\\\1. Network Data\\\\2. BusStops_UTA\\\\BusStops_UTA.dbf'):\r\n",
    "    stops[record['StopId']] = {\r\n",
    "        'StopName': record[\"StopName\"],\r\n",
    "        'StreetNum': record[\"StreetNum\"],\r\n",
    "        'OnStreet': record[\"OnStreet\"],\r\n",
    "        'AtStreet': record[\"AtStreet\"],\r\n",
    "        'City': record[\"City\"],\r\n",
    "        'InService': record[\"InService\"],\r\n",
    "        'Bench': record[\"Bench\"],\r\n",
    "        'Shelter': record[\"Shelter\"],\r\n",
    "        'Lighting': record[\"Lighting\"],\r\n",
    "        'Garbage': record[\"Garbage\"],\r\n",
    "        'Bicycle': record[\"Bicycle\"],\r\n",
    "        'Transfer': record[\"Transfer\"],\r\n",
    "        'LocationUs': record[\"LocationUs\"],\r\n",
    "        'UTAStopID': record[\"UTAStopID\"],\r\n",
    "    }\r\n",
    "    "
   ],
   "outputs": [],
   "metadata": {}
  },
  {
   "cell_type": "code",
   "execution_count": 87,
   "source": [
    "with open('allStops.json', 'w') as outfile:\r\n",
    "    json.dump(stops, outfile)"
   ],
   "outputs": [],
   "metadata": {}
  }
 ],
 "metadata": {
  "orig_nbformat": 4,
  "language_info": {
   "name": "python",
   "version": "3.7.6",
   "mimetype": "text/x-python",
   "codemirror_mode": {
    "name": "ipython",
    "version": 3
   },
   "pygments_lexer": "ipython3",
   "nbconvert_exporter": "python",
   "file_extension": ".py"
  },
  "kernelspec": {
   "name": "python3",
   "display_name": "Python 3.7.6 64-bit ('base': conda)"
  },
  "interpreter": {
   "hash": "8ca4ed7e0411efdd55c86abb9501ed3ebc25f575cccb7f83736f13ee17cb9622"
  }
 },
 "nbformat": 4,
 "nbformat_minor": 2
}